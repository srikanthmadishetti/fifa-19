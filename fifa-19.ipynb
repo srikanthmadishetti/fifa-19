{
 "cells": [
  {
   "cell_type": "code",
   "execution_count": 69,
   "metadata": {},
   "outputs": [
    {
     "name": "stdout",
     "output_type": "stream",
     "text": [
      "Index(['Unnamed: 0', 'ID', 'Name', 'Age', 'Photo', 'Nationality', 'Flag',\n",
      "       'Overall', 'Potential', 'Club', 'Club Logo', 'Value', 'Wage', 'Special',\n",
      "       'Preferred Foot', 'International Reputation', 'Weak Foot',\n",
      "       'Skill Moves', 'Work Rate', 'Body Type', 'Real Face', 'Position',\n",
      "       'Jersey Number', 'Joined', 'Loaned From', 'Contract Valid Until',\n",
      "       'Height', 'Weight', 'LS', 'ST', 'RS', 'LW', 'LF', 'CF', 'RF', 'RW',\n",
      "       'LAM', 'CAM', 'RAM', 'LM', 'LCM', 'CM', 'RCM', 'RM', 'LWB', 'LDM',\n",
      "       'CDM', 'RDM', 'RWB', 'LB', 'LCB', 'CB', 'RCB', 'RB', 'Crossing',\n",
      "       'Finishing', 'HeadingAccuracy', 'ShortPassing', 'Volleys', 'Dribbling',\n",
      "       'Curve', 'FKAccuracy', 'LongPassing', 'BallControl', 'Acceleration',\n",
      "       'SprintSpeed', 'Agility', 'Reactions', 'Balance', 'ShotPower',\n",
      "       'Jumping', 'Stamina', 'Strength', 'LongShots', 'Aggression',\n",
      "       'Interceptions', 'Positioning', 'Vision', 'Penalties', 'Composure',\n",
      "       'Marking', 'StandingTackle', 'SlidingTackle', 'GKDiving', 'GKHandling',\n",
      "       'GKKicking', 'GKPositioning', 'GKReflexes', 'Release Clause'],\n",
      "      dtype='object')\n"
     ]
    },
    {
     "data": {
      "text/plain": [
       "Nationality\n",
       "United Arab Emirates    77.000000\n",
       "Central African Rep.    73.333333\n",
       "Israel                  72.142857\n",
       "Dominican Republic      72.000000\n",
       "Oman                    72.000000\n",
       "Name: Overall, dtype: float64"
      ]
     },
     "execution_count": 69,
     "metadata": {},
     "output_type": "execute_result"
    }
   ],
   "source": [
    "# average rating of players per country\n",
    "import pandas as pd\n",
    "Data=pd.read_csv(r'C:\\Users\\Madishetty\\Downloads\\73041_220332_compressed_data.csv\\fifa-data.csv')\n",
    "print(Data.columns)\n",
    "#Data.head(3)\n",
    "Data.groupby('Nationality').Overall.mean().sort_values(ascending = False).head(5)"
   ]
  },
  {
   "cell_type": "code",
   "execution_count": 102,
   "metadata": {},
   "outputs": [
    {
     "name": "stdout",
     "output_type": "stream",
     "text": [
      "Position\n",
      "CAM    89\n",
      "CB     90\n",
      "CDM    89\n",
      "CF     82\n",
      "CM     86\n",
      "GK     91\n",
      "LAM    88\n",
      "LB     88\n",
      "LCB    89\n",
      "LCM    90\n",
      "LDM    89\n",
      "LF     91\n",
      "LM     88\n",
      "LS     89\n",
      "LW     92\n",
      "LWB    80\n",
      "RAM    84\n",
      "RB     86\n",
      "RCB    91\n",
      "RCM    91\n",
      "RDM    87\n",
      "RF     94\n",
      "RM     88\n",
      "RS     91\n",
      "RW     86\n",
      "RWB    80\n",
      "ST     94\n",
      "Name: Overall, dtype: int64\n"
     ]
    }
   ],
   "source": [
    "#Best players\n",
    "df1=Data.groupby('Position').Overall.max()\n",
    "print(df1)"
   ]
  },
  {
   "cell_type": "code",
   "execution_count": 87,
   "metadata": {},
   "outputs": [
    {
     "name": "stdout",
     "output_type": "stream",
     "text": [
      "16\n",
      "15\n"
     ]
    }
   ],
   "source": [
    "# total number of right foot and left foot players \n",
    "subset_df = Data[Data['Position'] ==\"RF\"]\n",
    "RF_count = subset_df['Name'].count()\n",
    "print(RF_count)\n",
    "subset_df = Data[Data['Position'] ==\"LF\"]\n",
    "LF_count = subset_df['Name'].count()\n",
    "print(LF_count)"
   ]
  },
  {
   "cell_type": "code",
   "execution_count": null,
   "metadata": {},
   "outputs": [],
   "source": [
    "#Display the distribution of the positions of all players in Fifa 2019 on a histogram.\n",
    "import matplotlib.pyplot as plt\n",
    "plt.ion()#ion\n",
    "plt.hist(Data['Nationality'], facecolor='cyan',edgecolor='blue',bins=10)"
   ]
  },
  {
   "cell_type": "code",
   "execution_count": null,
   "metadata": {},
   "outputs": [],
   "source": []
  }
 ],
 "metadata": {
  "kernelspec": {
   "display_name": "Python 3",
   "language": "python",
   "name": "python3"
  },
  "language_info": {
   "codemirror_mode": {
    "name": "ipython",
    "version": 3
   },
   "file_extension": ".py",
   "mimetype": "text/x-python",
   "name": "python",
   "nbconvert_exporter": "python",
   "pygments_lexer": "ipython3",
   "version": "3.7.6"
  }
 },
 "nbformat": 4,
 "nbformat_minor": 2
}
